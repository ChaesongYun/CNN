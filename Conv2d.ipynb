{
  "nbformat": 4,
  "nbformat_minor": 0,
  "metadata": {
    "colab": {
      "provenance": [],
      "authorship_tag": "ABX9TyOwVJ4dJaiLpUTDQSyU+9J1",
      "include_colab_link": true
    },
    "kernelspec": {
      "name": "python3",
      "display_name": "Python 3"
    },
    "language_info": {
      "name": "python"
    }
  },
  "cells": [
    {
      "cell_type": "markdown",
      "metadata": {
        "id": "view-in-github",
        "colab_type": "text"
      },
      "source": [
        "<a href=\"https://colab.research.google.com/github/ChaesongYun/CNN/blob/main/Conv2d.ipynb\" target=\"_parent\"><img src=\"https://colab.research.google.com/assets/colab-badge.svg\" alt=\"Open In Colab\"/></a>"
      ]
    },
    {
      "cell_type": "markdown",
      "source": [
        "# Convolution\n",
        "특정한 패턴의 특징이 어디서 나타나는지 확인하는 도구\n",
        "<br>\n",
        "<br>\n",
        "\n",
        "## feature map\n",
        "- 이미지의 특징을 담은 맵\n",
        "- 얕은 레이어일수록 이미지의 큰 특징을 반영하는 feature map을 만들고<br>\n",
        "깊은 레이어일수록 이미지의 추상적 곡선이나 형태만을 담은 feature map을 만든다\n",
        "<br>\n",
        "\n",
        "## filter(kernel)\n",
        "- 이미지로부터 내가 원하는 정보(특징)만 추출하는 것<br>\n",
        "  mask와 같은 말\n",
        "- 이미지 데이터를 지정된 간격으로 움직이며 합성곱(convolution) 계산을 수행한다\n",
        "<br>\n",
        "\n",
        "```text\n",
        "❓합성곱\n",
        "행렬끼리의 연산\n",
        "여기서 계산되는 행렬은 원래 이미지가 가진 행렬과 filter의 원소를 의미한다\n",
        "이때 합성곱 연산을 통해 이루어진 결과가 앞에서 나온 feature map\n",
        "```\n",
        "\n",
        "- filter크기에 따라 feature map의 크기는 달라지며 이 feature map이 또 다른 레이어에 들어갈 때는 output이 아닌 input이 된다\n",
        "- feature map의 크기는 레이어가 깊어질수록 작아질 것\n",
        "- convolutional filter를 여러 개 쌓는 것이 큰 convolutional filter 1개를 쌓는 것보다 더 좋은 성능을 낼 수 있다!<br>\n",
        "  작은 filter를 사용하면 더 적은 파라미터로 세세하게 이미지를 볼 수 있기 때문"
      ],
      "metadata": {
        "id": "N7r3IVwZ89B4"
      }
    },
    {
      "cell_type": "markdown",
      "source": [
        "## 필터의 이해\n",
        "- 필터셋은 3차원 형태로 된 가중치의 모음\n",
        "- 필터셋 하나는 앞선 레이어의 결과인 '특징맵' 전체를 본다\n",
        "- 필터셋 개수만큼 특징맵을 만든다\n",
        "\n",
        "```py\n",
        "Conv2D(3, kernel_size=5, activation='swish')\n",
        "Conv2D(6, kernel_size=5, activation='swish')\n",
        "```\n",
        "<br>\n",
        "라고 할 때<br>\n",
        "흑백 이미지는 (28, 28, 1), 즉 채널이 1개이니<br>\n",
        "fitler set은 (5, 5, 1) (5, 5, 1) (5, 5, 1)이렇게\n",
        "<br>\n",
        "\n",
        "색깔이 있는 이미지는 (32, 32, 3)이니까<br>\n",
        "(5, 5, 3) (5, 5, 3) (5, 5, 3)<br>\n",
        "(3, 5, 5, ?) 맨 뒤 ?는 앞선 채널의 개수와 동일\n",
        "\n",
        "\n"
      ],
      "metadata": {
        "id": "xoHwjwLELEPy"
      }
    }
  ]
}